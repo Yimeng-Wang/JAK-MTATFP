{
 "cells": [
  {
   "cell_type": "code",
   "execution_count": 34,
   "metadata": {},
   "outputs": [
    {
     "name": "stdout",
     "output_type": "stream",
     "text": [
      "use CPU\n"
     ]
    }
   ],
   "source": [
    "import pandas as pd\n",
    "import numpy as np\n",
    "import matplotlib.pyplot as plt\n",
    "import torch\n",
    "from torch.utils.data import DataLoader\n",
    "from dgllife.model import model_zoo\n",
    "from dgllife.utils import smiles_to_bigraph\n",
    "from dgllife.utils import AttentiveFPAtomFeaturizer\n",
    "from dgllife.utils import AttentiveFPBondFeaturizer\n",
    "from dgllife.data import MoleculeCSVDataset\n",
    "import dgl\n",
    "import matplotlib\n",
    "import matplotlib.cm as cm\n",
    "from IPython.display import SVG, display\n",
    "from rdkit import Chem\n",
    "from rdkit.Chem import rdDepictor\n",
    "from rdkit.Chem.Draw import rdMolDraw2D\n",
    "\n",
    "if torch.cuda.is_available():\n",
    "    print('use GPU')\n",
    "    device = 'cuda'\n",
    "else:\n",
    "    print('use CPU')\n",
    "    device = 'cpu'"
   ]
  },
  {
   "cell_type": "code",
   "execution_count": 35,
   "metadata": {},
   "outputs": [],
   "source": [
    "def collate_molgraphs(data):\n",
    "    assert len(data[0]) in [3, 4], \\\n",
    "        'Expect the tuple to be of length 3 or 4, got {:d}'.format(len(data[0]))\n",
    "    if len(data[0]) == 3:\n",
    "        smiles, graphs, labels = map(list, zip(*data))\n",
    "        masks = None\n",
    "    else:\n",
    "        smiles, graphs, labels, masks = map(list, zip(*data))\n",
    "\n",
    "    bg = dgl.batch(graphs)\n",
    "    bg.set_n_initializer(dgl.init.zero_initializer)\n",
    "    bg.set_e_initializer(dgl.init.zero_initializer)\n",
    "    labels = torch.stack(labels, dim=0)\n",
    "\n",
    "    if masks is None:\n",
    "        masks = torch.ones(labels.shape)\n",
    "    else:\n",
    "        masks = torch.stack(masks, dim=0)\n",
    "    return smiles, bg, labels, masks"
   ]
  },
  {
   "cell_type": "markdown",
   "metadata": {},
   "source": [
    "### Load Dataset"
   ]
  },
  {
   "cell_type": "code",
   "execution_count": 36,
   "metadata": {},
   "outputs": [
    {
     "name": "stdout",
     "output_type": "stream",
     "text": [
      "Loading previously saved dgl graphs...\n",
      "ExTest sets:  38\n"
     ]
    }
   ],
   "source": [
    "atom_featurizer = AttentiveFPAtomFeaturizer(atom_data_field='hv')\n",
    "bond_featurizer = AttentiveFPBondFeaturizer(bond_data_field='he')\n",
    "n_feats = atom_featurizer.feat_size('hv')\n",
    "e_feats = bond_featurizer.feat_size('he')\n",
    "\n",
    "dc_listings = pd.read_csv('../MTATFP/Data/JAK_inhibitor_series.csv')\n",
    "extest_datasets = MoleculeCSVDataset(dc_listings,\n",
    "                            smiles_to_graph=smiles_to_bigraph,\n",
    "                            node_featurizer=atom_featurizer,\n",
    "                            edge_featurizer= bond_featurizer,\n",
    "                            smiles_column='SMILES',\n",
    "                            cache_file_path='../MTATFP/Data/jak_extest.bin',\n",
    "                            task_names=['pIC50_JAK1','pIC50_JAK2','pIC50_JAK3','pIC50_TYK2'],\n",
    "                            load=True,init_mask=True\n",
    "                            )\n",
    "\n",
    "extest_loader = DataLoader(extest_datasets,batch_size=256,shuffle=True,collate_fn=collate_molgraphs)\n",
    "print('ExTest sets: ',len(extest_datasets))"
   ]
  },
  {
   "cell_type": "markdown",
   "metadata": {},
   "source": [
    "###  Load Model"
   ]
  },
  {
   "cell_type": "code",
   "execution_count": 37,
   "metadata": {},
   "outputs": [
    {
     "data": {
      "text/plain": [
       "<All keys matched successfully>"
      ]
     },
     "execution_count": 37,
     "metadata": {},
     "output_type": "execute_result"
    }
   ],
   "source": [
    "fn = '../MTATFP/Model/MTATFP_jak.pt'\n",
    "model = model_zoo.AttentiveFPPredictor(node_feat_size=n_feats,\n",
    "                                   edge_feat_size=e_feats,\n",
    "                                   num_layers=2,\n",
    "                                   num_timesteps=1,\n",
    "                                   graph_feat_size=300,\n",
    "                                   n_tasks=4,\n",
    "                                    )\n",
    "model.load_state_dict(torch.load(fn,map_location=torch.device('cpu')))"
   ]
  },
  {
   "cell_type": "markdown",
   "metadata": {},
   "source": [
    "### Draw Molecules "
   ]
  },
  {
   "cell_type": "code",
   "execution_count": 40,
   "metadata": {},
   "outputs": [],
   "source": [
    "def draw(mol_id, dataset, timestep):\n",
    "    smiles, g, label, _ = dataset[mol_id]\n",
    "    g = dgl.batch([g])\n",
    "    atom_feats, bond_feats = g.ndata.pop('hv'), g.edata.pop('he')\n",
    "    preds, atom_weights1 = model(g, atom_feats, bond_feats, get_node_weight=True)\n",
    "    assert timestep < len(atom_weights1)\n",
    "    atom_weights1 = atom_weights1[timestep]\n",
    "    min_value = torch.min(atom_weights1)\n",
    "    max_value = torch.max(atom_weights1)\n",
    "    atom_weights = (atom_weights1 - min_value) / (max_value - min_value)\n",
    "    c=atom_weights.detach().cpu().numpy().flatten().tolist()\n",
    "    norm = matplotlib.colors.Normalize(vmin=0,vmax=(sum(c)/len(c)))\n",
    "    cmap = cm.get_cmap('summer_r')\n",
    "    plt_colors = plt.cm.ScalarMappable(norm=norm, cmap=cmap)\n",
    "    atom_colors = {i: plt_colors.to_rgba(atom_weights[i].data.item()) for i in range(g.number_of_nodes())}\n",
    "    plt_colors._A = [] \n",
    "    cb = plt.colorbar(plt_colors) \n",
    "    cb.set_ticks([]) \n",
    "    \n",
    "\n",
    "    mol = Chem.MolFromSmiles(smiles)\n",
    "    rdDepictor.Compute2DCoords(mol)\n",
    "    drawer = rdMolDraw2D.MolDraw2DSVG(300,300)\n",
    "    \n",
    "    drawer.SetFontSize(1)\n",
    "    op = drawer.drawOptions().addAtomIndices=True\n",
    "    \n",
    "    mol = rdMolDraw2D.PrepareMolForDrawing(mol)\n",
    "    drawer.DrawMolecule(mol,highlightAtoms=range(g.number_of_nodes()),highlightBonds=[],\n",
    "    highlightAtomColors=atom_colors)\n",
    "    drawer.FinishDrawing()\n",
    "    svg = drawer.GetDrawingText()\n",
    "    svg = svg.replace('svg:','')\n",
    "    display(SVG(svg))\n",
    "    return smiles,label,preds,atom_weights"
   ]
  },
  {
   "cell_type": "code",
   "execution_count": 41,
   "metadata": {
    "scrolled": false
   },
   "outputs": [
    {
     "data": {
      "image/svg+xml": [
       "<svg baseProfile=\"full\" height=\"300px\" version=\"1.1\" width=\"300px\" xml:space=\"preserve\" xmlns=\"http://www.w3.org/2000/svg\" xmlns:rdkit=\"http://www.rdkit.org/xml\" xmlns:xlink=\"http://www.w3.org/1999/xlink\">\n",
       "<!-- END OF HEADER -->\n",
       "<rect height=\"300\" style=\"opacity:1.0;fill:#FFFFFF;stroke:none\" width=\"300\" x=\"0\" y=\"0\"> </rect>\n",
       "<ellipse cx=\"49.3859\" cy=\"94.6117\" rx=\"6.91738\" ry=\"6.91738\" style=\"fill:#8DC666;fill-rule:evenodd;stroke:#8DC666;stroke-width:1px;stroke-linecap:butt;stroke-linejoin:miter;stroke-opacity:1\"/>\n",
       "<ellipse cx=\"72.7988\" cy=\"105.78\" rx=\"6.91738\" ry=\"6.91738\" style=\"fill:#007F66;fill-rule:evenodd;stroke:#007F66;stroke-width:1px;stroke-linecap:butt;stroke-linejoin:miter;stroke-opacity:1\"/>\n",
       "<ellipse cx=\"94.1772\" cy=\"91.0876\" rx=\"6.91738\" ry=\"6.91738\" style=\"fill:#71B866;fill-rule:evenodd;stroke:#71B866;stroke-width:1px;stroke-linecap:butt;stroke-linejoin:miter;stroke-opacity:1\"/>\n",
       "<ellipse cx=\"74.8334\" cy=\"131.64\" rx=\"6.91738\" ry=\"6.91738\" style=\"fill:#FFFF66;fill-rule:evenodd;stroke:#FFFF66;stroke-width:1px;stroke-linecap:butt;stroke-linejoin:miter;stroke-opacity:1\"/>\n",
       "<ellipse cx=\"53.4551\" cy=\"146.332\" rx=\"6.91738\" ry=\"6.91738\" style=\"fill:#0B8566;fill-rule:evenodd;stroke:#0B8566;stroke-width:1px;stroke-linecap:butt;stroke-linejoin:miter;stroke-opacity:1\"/>\n",
       "<ellipse cx=\"55.4897\" cy=\"172.192\" rx=\"6.91738\" ry=\"6.91738\" style=\"fill:#007F66;fill-rule:evenodd;stroke:#007F66;stroke-width:1px;stroke-linecap:butt;stroke-linejoin:miter;stroke-opacity:1\"/>\n",
       "<ellipse cx=\"78.9027\" cy=\"183.361\" rx=\"6.91738\" ry=\"6.91738\" style=\"fill:#FFFF66;fill-rule:evenodd;stroke:#FFFF66;stroke-width:1px;stroke-linecap:butt;stroke-linejoin:miter;stroke-opacity:1\"/>\n",
       "<ellipse cx=\"86.2695\" cy=\"208.233\" rx=\"6.91738\" ry=\"6.91738\" style=\"fill:#007F66;fill-rule:evenodd;stroke:#007F66;stroke-width:1px;stroke-linecap:butt;stroke-linejoin:miter;stroke-opacity:1\"/>\n",
       "<ellipse cx=\"112.201\" cy=\"208.912\" rx=\"6.91738\" ry=\"6.91738\" style=\"fill:#0A8466;fill-rule:evenodd;stroke:#0A8466;stroke-width:1px;stroke-linecap:butt;stroke-linejoin:miter;stroke-opacity:1\"/>\n",
       "<ellipse cx=\"120.86\" cy=\"184.46\" rx=\"6.91738\" ry=\"6.91738\" style=\"fill:#57AB66;fill-rule:evenodd;stroke:#57AB66;stroke-width:1px;stroke-linecap:butt;stroke-linejoin:miter;stroke-opacity:1\"/>\n",
       "<ellipse cx=\"100.281\" cy=\"168.668\" rx=\"6.91738\" ry=\"6.91738\" style=\"fill:#B0D766;fill-rule:evenodd;stroke:#B0D766;stroke-width:1px;stroke-linecap:butt;stroke-linejoin:miter;stroke-opacity:1\"/>\n",
       "<ellipse cx=\"98.2464\" cy=\"142.808\" rx=\"6.91738\" ry=\"6.91738\" style=\"fill:#FEFE66;fill-rule:evenodd;stroke:#FEFE66;stroke-width:1px;stroke-linecap:butt;stroke-linejoin:miter;stroke-opacity:1\"/>\n",
       "<ellipse cx=\"119.625\" cy=\"128.116\" rx=\"6.91738\" ry=\"6.91738\" style=\"fill:#007F66;fill-rule:evenodd;stroke:#007F66;stroke-width:1px;stroke-linecap:butt;stroke-linejoin:miter;stroke-opacity:1\"/>\n",
       "<ellipse cx=\"143.038\" cy=\"139.284\" rx=\"6.91738\" ry=\"6.91738\" style=\"fill:#007F66;fill-rule:evenodd;stroke:#007F66;stroke-width:1px;stroke-linecap:butt;stroke-linejoin:miter;stroke-opacity:1\"/>\n",
       "<ellipse cx=\"164.416\" cy=\"124.592\" rx=\"6.91738\" ry=\"6.91738\" style=\"fill:#007F66;fill-rule:evenodd;stroke:#007F66;stroke-width:1px;stroke-linecap:butt;stroke-linejoin:miter;stroke-opacity:1\"/>\n",
       "<ellipse cx=\"187.829\" cy=\"135.76\" rx=\"6.91738\" ry=\"6.91738\" style=\"fill:#2B9566;fill-rule:evenodd;stroke:#2B9566;stroke-width:1px;stroke-linecap:butt;stroke-linejoin:miter;stroke-opacity:1\"/>\n",
       "<ellipse cx=\"189.864\" cy=\"161.62\" rx=\"6.91738\" ry=\"6.91738\" style=\"fill:#007F66;fill-rule:evenodd;stroke:#007F66;stroke-width:1px;stroke-linecap:butt;stroke-linejoin:miter;stroke-opacity:1\"/>\n",
       "<ellipse cx=\"213.277\" cy=\"172.788\" rx=\"6.91738\" ry=\"6.91738\" style=\"fill:#007F66;fill-rule:evenodd;stroke:#007F66;stroke-width:1px;stroke-linecap:butt;stroke-linejoin:miter;stroke-opacity:1\"/>\n",
       "<ellipse cx=\"234.655\" cy=\"158.096\" rx=\"6.91738\" ry=\"6.91738\" style=\"fill:#B0D766;fill-rule:evenodd;stroke:#B0D766;stroke-width:1px;stroke-linecap:butt;stroke-linejoin:miter;stroke-opacity:1\"/>\n",
       "<ellipse cx=\"232.62\" cy=\"132.236\" rx=\"6.91738\" ry=\"6.91738\" style=\"fill:#007F66;fill-rule:evenodd;stroke:#007F66;stroke-width:1px;stroke-linecap:butt;stroke-linejoin:miter;stroke-opacity:1\"/>\n",
       "<ellipse cx=\"253.999\" cy=\"117.544\" rx=\"6.91738\" ry=\"6.91738\" style=\"fill:#44A166;fill-rule:evenodd;stroke:#44A166;stroke-width:1px;stroke-linecap:butt;stroke-linejoin:miter;stroke-opacity:1\"/>\n",
       "<ellipse cx=\"277.412\" cy=\"128.712\" rx=\"6.91738\" ry=\"6.91738\" style=\"fill:#118866;fill-rule:evenodd;stroke:#118866;stroke-width:1px;stroke-linecap:butt;stroke-linejoin:miter;stroke-opacity:1\"/>\n",
       "<ellipse cx=\"279.446\" cy=\"154.572\" rx=\"6.91738\" ry=\"6.91738\" style=\"fill:#007F66;fill-rule:evenodd;stroke:#007F66;stroke-width:1px;stroke-linecap:butt;stroke-linejoin:miter;stroke-opacity:1\"/>\n",
       "<ellipse cx=\"258.068\" cy=\"169.264\" rx=\"6.91738\" ry=\"6.91738\" style=\"fill:#98CB66;fill-rule:evenodd;stroke:#98CB66;stroke-width:1px;stroke-linecap:butt;stroke-linejoin:miter;stroke-opacity:1\"/>\n",
       "<ellipse cx=\"168.485\" cy=\"176.312\" rx=\"6.91738\" ry=\"6.91738\" style=\"fill:#007F66;fill-rule:evenodd;stroke:#007F66;stroke-width:1px;stroke-linecap:butt;stroke-linejoin:miter;stroke-opacity:1\"/>\n",
       "<ellipse cx=\"145.072\" cy=\"165.144\" rx=\"6.91738\" ry=\"6.91738\" style=\"fill:#007F66;fill-rule:evenodd;stroke:#007F66;stroke-width:1px;stroke-linecap:butt;stroke-linejoin:miter;stroke-opacity:1\"/>\n",
       "<path class=\"bond-0\" d=\"M 67.2606,103.138 70.0297,104.459\" style=\"fill:none;fill-rule:evenodd;stroke:#0000FF;stroke-width:2px;stroke-linecap:butt;stroke-linejoin:miter;stroke-opacity:1\"/>\n",
       "<path class=\"bond-0\" d=\"M 70.0297,104.459 72.7988,105.78\" style=\"fill:none;fill-rule:evenodd;stroke:#000000;stroke-width:2px;stroke-linecap:butt;stroke-linejoin:miter;stroke-opacity:1\"/>\n",
       "<path class=\"bond-1\" d=\"M 74.268,107.918 80.9193,103.347\" style=\"fill:none;fill-rule:evenodd;stroke:#000000;stroke-width:2px;stroke-linecap:butt;stroke-linejoin:miter;stroke-opacity:1\"/>\n",
       "<path class=\"bond-1\" d=\"M 80.9193,103.347 87.5706,98.7755\" style=\"fill:none;fill-rule:evenodd;stroke:#FF0000;stroke-width:2px;stroke-linecap:butt;stroke-linejoin:miter;stroke-opacity:1\"/>\n",
       "<path class=\"bond-1\" d=\"M 71.3296,103.642 77.9809,99.0709\" style=\"fill:none;fill-rule:evenodd;stroke:#000000;stroke-width:2px;stroke-linecap:butt;stroke-linejoin:miter;stroke-opacity:1\"/>\n",
       "<path class=\"bond-1\" d=\"M 77.9809,99.0709 84.6321,94.4998\" style=\"fill:none;fill-rule:evenodd;stroke:#FF0000;stroke-width:2px;stroke-linecap:butt;stroke-linejoin:miter;stroke-opacity:1\"/>\n",
       "<path class=\"bond-2\" d=\"M 72.7988,105.78 74.8334,131.64\" style=\"fill:none;fill-rule:evenodd;stroke:#000000;stroke-width:2px;stroke-linecap:butt;stroke-linejoin:miter;stroke-opacity:1\"/>\n",
       "<path class=\"bond-3\" d=\"M 74.8334,131.64 53.4551,146.332\" style=\"fill:none;fill-rule:evenodd;stroke:#000000;stroke-width:2px;stroke-linecap:butt;stroke-linejoin:miter;stroke-opacity:1\"/>\n",
       "<path class=\"bond-3\" d=\"M 74.5651,138.12 59.6003,148.404\" style=\"fill:none;fill-rule:evenodd;stroke:#000000;stroke-width:2px;stroke-linecap:butt;stroke-linejoin:miter;stroke-opacity:1\"/>\n",
       "<path class=\"bond-25\" d=\"M 74.8334,131.64 98.2464,142.808\" style=\"fill:none;fill-rule:evenodd;stroke:#000000;stroke-width:2px;stroke-linecap:butt;stroke-linejoin:miter;stroke-opacity:1\"/>\n",
       "<path class=\"bond-4\" d=\"M 53.4551,146.332 54.1323,154.939\" style=\"fill:none;fill-rule:evenodd;stroke:#000000;stroke-width:2px;stroke-linecap:butt;stroke-linejoin:miter;stroke-opacity:1\"/>\n",
       "<path class=\"bond-4\" d=\"M 54.1323,154.939 54.8094,163.546\" style=\"fill:none;fill-rule:evenodd;stroke:#0000FF;stroke-width:2px;stroke-linecap:butt;stroke-linejoin:miter;stroke-opacity:1\"/>\n",
       "<path class=\"bond-5\" d=\"M 62.9842,175.767 70.9435,179.564\" style=\"fill:none;fill-rule:evenodd;stroke:#0000FF;stroke-width:2px;stroke-linecap:butt;stroke-linejoin:miter;stroke-opacity:1\"/>\n",
       "<path class=\"bond-5\" d=\"M 70.9435,179.564 78.9027,183.361\" style=\"fill:none;fill-rule:evenodd;stroke:#000000;stroke-width:2px;stroke-linecap:butt;stroke-linejoin:miter;stroke-opacity:1\"/>\n",
       "<path class=\"bond-5\" d=\"M 67.6056,172.224 73.1771,174.881\" style=\"fill:none;fill-rule:evenodd;stroke:#0000FF;stroke-width:2px;stroke-linecap:butt;stroke-linejoin:miter;stroke-opacity:1\"/>\n",
       "<path class=\"bond-5\" d=\"M 73.1771,174.881 78.7485,177.539\" style=\"fill:none;fill-rule:evenodd;stroke:#000000;stroke-width:2px;stroke-linecap:butt;stroke-linejoin:miter;stroke-opacity:1\"/>\n",
       "<path class=\"bond-6\" d=\"M 78.9027,183.361 81.3055,191.473\" style=\"fill:none;fill-rule:evenodd;stroke:#000000;stroke-width:2px;stroke-linecap:butt;stroke-linejoin:miter;stroke-opacity:1\"/>\n",
       "<path class=\"bond-6\" d=\"M 81.3055,191.473 83.7084,199.586\" style=\"fill:none;fill-rule:evenodd;stroke:#0000FF;stroke-width:2px;stroke-linecap:butt;stroke-linejoin:miter;stroke-opacity:1\"/>\n",
       "<path class=\"bond-27\" d=\"M 78.9027,183.361 100.281,168.668\" style=\"fill:none;fill-rule:evenodd;stroke:#000000;stroke-width:2px;stroke-linecap:butt;stroke-linejoin:miter;stroke-opacity:1\"/>\n",
       "<path class=\"bond-7\" d=\"M 101.259,208.626 106.73,208.769\" style=\"fill:none;fill-rule:evenodd;stroke:#0000FF;stroke-width:2px;stroke-linecap:butt;stroke-linejoin:miter;stroke-opacity:1\"/>\n",
       "<path class=\"bond-7\" d=\"M 106.73,208.769 112.201,208.912\" style=\"fill:none;fill-rule:evenodd;stroke:#000000;stroke-width:2px;stroke-linecap:butt;stroke-linejoin:miter;stroke-opacity:1\"/>\n",
       "<path class=\"bond-8\" d=\"M 112.201,208.912 120.86,184.46\" style=\"fill:none;fill-rule:evenodd;stroke:#000000;stroke-width:2px;stroke-linecap:butt;stroke-linejoin:miter;stroke-opacity:1\"/>\n",
       "<path class=\"bond-8\" d=\"M 108.609,203.513 114.671,186.396\" style=\"fill:none;fill-rule:evenodd;stroke:#000000;stroke-width:2px;stroke-linecap:butt;stroke-linejoin:miter;stroke-opacity:1\"/>\n",
       "<path class=\"bond-9\" d=\"M 120.86,184.46 100.281,168.668\" style=\"fill:none;fill-rule:evenodd;stroke:#000000;stroke-width:2px;stroke-linecap:butt;stroke-linejoin:miter;stroke-opacity:1\"/>\n",
       "<path class=\"bond-10\" d=\"M 100.281,168.668 98.2464,142.808\" style=\"fill:none;fill-rule:evenodd;stroke:#000000;stroke-width:2px;stroke-linecap:butt;stroke-linejoin:miter;stroke-opacity:1\"/>\n",
       "<path class=\"bond-10\" d=\"M 94.8038,165.196 93.3795,147.094\" style=\"fill:none;fill-rule:evenodd;stroke:#000000;stroke-width:2px;stroke-linecap:butt;stroke-linejoin:miter;stroke-opacity:1\"/>\n",
       "<path class=\"bond-11\" d=\"M 98.2464,142.808 102.645,139.785\" style=\"fill:none;fill-rule:evenodd;stroke:#000000;stroke-width:2px;stroke-linecap:butt;stroke-linejoin:miter;stroke-opacity:1\"/>\n",
       "<path class=\"bond-11\" d=\"M 102.645,139.785 107.043,136.763\" style=\"fill:none;fill-rule:evenodd;stroke:#0000FF;stroke-width:2px;stroke-linecap:butt;stroke-linejoin:miter;stroke-opacity:1\"/>\n",
       "<path class=\"bond-12\" d=\"M 134.614,135.266 138.826,137.275\" style=\"fill:none;fill-rule:evenodd;stroke:#0000FF;stroke-width:2px;stroke-linecap:butt;stroke-linejoin:miter;stroke-opacity:1\"/>\n",
       "<path class=\"bond-12\" d=\"M 138.826,137.275 143.038,139.284\" style=\"fill:none;fill-rule:evenodd;stroke:#000000;stroke-width:2px;stroke-linecap:butt;stroke-linejoin:miter;stroke-opacity:1\"/>\n",
       "<path class=\"bond-13\" d=\"M 143.038,139.284 164.416,124.592\" style=\"fill:none;fill-rule:evenodd;stroke:#000000;stroke-width:2px;stroke-linecap:butt;stroke-linejoin:miter;stroke-opacity:1\"/>\n",
       "<path class=\"bond-26\" d=\"M 143.038,139.284 145.072,165.144\" style=\"fill:none;fill-rule:evenodd;stroke:#000000;stroke-width:2px;stroke-linecap:butt;stroke-linejoin:miter;stroke-opacity:1\"/>\n",
       "<path class=\"bond-14\" d=\"M 164.416,124.592 187.829,135.76\" style=\"fill:none;fill-rule:evenodd;stroke:#000000;stroke-width:2px;stroke-linecap:butt;stroke-linejoin:miter;stroke-opacity:1\"/>\n",
       "<path class=\"bond-15\" d=\"M 187.829,135.76 188.506,144.367\" style=\"fill:none;fill-rule:evenodd;stroke:#000000;stroke-width:2px;stroke-linecap:butt;stroke-linejoin:miter;stroke-opacity:1\"/>\n",
       "<path class=\"bond-15\" d=\"M 188.506,144.367 189.183,152.974\" style=\"fill:none;fill-rule:evenodd;stroke:#0000FF;stroke-width:2px;stroke-linecap:butt;stroke-linejoin:miter;stroke-opacity:1\"/>\n",
       "<path class=\"bond-16\" d=\"M 197.358,165.195 205.317,168.992\" style=\"fill:none;fill-rule:evenodd;stroke:#0000FF;stroke-width:2px;stroke-linecap:butt;stroke-linejoin:miter;stroke-opacity:1\"/>\n",
       "<path class=\"bond-16\" d=\"M 205.317,168.992 213.277,172.788\" style=\"fill:none;fill-rule:evenodd;stroke:#000000;stroke-width:2px;stroke-linecap:butt;stroke-linejoin:miter;stroke-opacity:1\"/>\n",
       "<path class=\"bond-23\" d=\"M 182.369,166.771 175.427,171.542\" style=\"fill:none;fill-rule:evenodd;stroke:#0000FF;stroke-width:2px;stroke-linecap:butt;stroke-linejoin:miter;stroke-opacity:1\"/>\n",
       "<path class=\"bond-23\" d=\"M 175.427,171.542 168.485,176.312\" style=\"fill:none;fill-rule:evenodd;stroke:#000000;stroke-width:2px;stroke-linecap:butt;stroke-linejoin:miter;stroke-opacity:1\"/>\n",
       "<path class=\"bond-17\" d=\"M 213.277,172.788 234.655,158.096\" style=\"fill:none;fill-rule:evenodd;stroke:#000000;stroke-width:2px;stroke-linecap:butt;stroke-linejoin:miter;stroke-opacity:1\"/>\n",
       "<path class=\"bond-18\" d=\"M 234.655,158.096 232.62,132.236\" style=\"fill:none;fill-rule:evenodd;stroke:#000000;stroke-width:2px;stroke-linecap:butt;stroke-linejoin:miter;stroke-opacity:1\"/>\n",
       "<path class=\"bond-18\" d=\"M 239.522,153.81 238.098,135.708\" style=\"fill:none;fill-rule:evenodd;stroke:#000000;stroke-width:2px;stroke-linecap:butt;stroke-linejoin:miter;stroke-opacity:1\"/>\n",
       "<path class=\"bond-28\" d=\"M 234.655,158.096 258.068,169.264\" style=\"fill:none;fill-rule:evenodd;stroke:#000000;stroke-width:2px;stroke-linecap:butt;stroke-linejoin:miter;stroke-opacity:1\"/>\n",
       "<path class=\"bond-19\" d=\"M 232.62,132.236 253.999,117.544\" style=\"fill:none;fill-rule:evenodd;stroke:#000000;stroke-width:2px;stroke-linecap:butt;stroke-linejoin:miter;stroke-opacity:1\"/>\n",
       "<path class=\"bond-20\" d=\"M 253.999,117.544 277.412,128.712\" style=\"fill:none;fill-rule:evenodd;stroke:#000000;stroke-width:2px;stroke-linecap:butt;stroke-linejoin:miter;stroke-opacity:1\"/>\n",
       "<path class=\"bond-20\" d=\"M 255.277,123.902 271.666,131.719\" style=\"fill:none;fill-rule:evenodd;stroke:#000000;stroke-width:2px;stroke-linecap:butt;stroke-linejoin:miter;stroke-opacity:1\"/>\n",
       "<path class=\"bond-21\" d=\"M 277.412,128.712 279.446,154.572\" style=\"fill:none;fill-rule:evenodd;stroke:#000000;stroke-width:2px;stroke-linecap:butt;stroke-linejoin:miter;stroke-opacity:1\"/>\n",
       "<path class=\"bond-22\" d=\"M 279.446,154.572 258.068,169.264\" style=\"fill:none;fill-rule:evenodd;stroke:#000000;stroke-width:2px;stroke-linecap:butt;stroke-linejoin:miter;stroke-opacity:1\"/>\n",
       "<path class=\"bond-22\" d=\"M 273.301,152.5 258.336,162.785\" style=\"fill:none;fill-rule:evenodd;stroke:#000000;stroke-width:2px;stroke-linecap:butt;stroke-linejoin:miter;stroke-opacity:1\"/>\n",
       "<path class=\"bond-24\" d=\"M 168.485,176.312 145.072,165.144\" style=\"fill:none;fill-rule:evenodd;stroke:#000000;stroke-width:2px;stroke-linecap:butt;stroke-linejoin:miter;stroke-opacity:1\"/>\n",
       "<text style=\"font-size:17px;font-style:normal;font-weight:normal;fill-opacity:1;stroke:none;font-family:sans-serif;text-anchor:start;fill:#0000FF\" x=\"31.5111\" y=\"104.123\"><tspan>H</tspan><tspan style=\"baseline-shift:sub;font-size:12.75px;\">2</tspan><tspan>N</tspan></text>\n",
       "<text style=\"font-size:17px;font-style:normal;font-weight:normal;fill-opacity:1;stroke:none;font-family:sans-serif;text-anchor:start;fill:#FF0000\" x=\"86.1014\" y=\"99.7343\"><tspan>O</tspan></text>\n",
       "<text style=\"font-size:17px;font-style:normal;font-weight:normal;fill-opacity:1;stroke:none;font-family:sans-serif;text-anchor:start;fill:#0000FF\" x=\"47.9952\" y=\"180.839\"><tspan>N</tspan></text>\n",
       "<text style=\"font-size:17px;font-style:normal;font-weight:normal;fill-opacity:1;stroke:none;font-family:sans-serif;text-anchor:start;fill:#0000FF\" x=\"71.2804\" y=\"216.879\"><tspan>NH</tspan></text>\n",
       "<text style=\"font-size:17px;font-style:normal;font-weight:normal;fill-opacity:1;stroke:none;font-family:sans-serif;text-anchor:start;fill:#0000FF\" x=\"104.636\" y=\"136.763\"><tspan>NH</tspan></text>\n",
       "<text style=\"font-size:17px;font-style:normal;font-weight:normal;fill-opacity:1;stroke:none;font-family:sans-serif;text-anchor:start;fill:#0000FF\" x=\"182.369\" y=\"170.267\"><tspan>N</tspan></text>\n",
       "</svg>"
      ],
      "text/plain": [
       "<IPython.core.display.SVG object>"
      ]
     },
     "metadata": {},
     "output_type": "display_data"
    },
    {
     "data": {
      "text/plain": [
       "('NC(=O)c1cnc2[nH]ccc2c1NC1CCN(Cc2ccccc2)CC1',\n",
       " tensor([-1.9445, -1.9243, -1.3617, -2.0434]),\n",
       " tensor([[-1.8679, -1.7290, -1.4729, -2.0613]], grad_fn=<AddmmBackward>),\n",
       " tensor([[0.2043],\n",
       "         [0.4666],\n",
       "         [0.2543],\n",
       "         [0.0000],\n",
       "         [0.4353],\n",
       "         [1.0000],\n",
       "         [0.0000],\n",
       "         [0.9613],\n",
       "         [0.4381],\n",
       "         [0.3004],\n",
       "         [0.1415],\n",
       "         [0.0021],\n",
       "         [0.8551],\n",
       "         [1.0000],\n",
       "         [0.6369],\n",
       "         [0.3787],\n",
       "         [0.7194],\n",
       "         [0.7194],\n",
       "         [0.1415],\n",
       "         [0.4825],\n",
       "         [0.3340],\n",
       "         [0.4243],\n",
       "         [0.7591],\n",
       "         [0.1844],\n",
       "         [0.5022],\n",
       "         [0.5209]], grad_fn=<DivBackward0>))"
      ]
     },
     "execution_count": 41,
     "metadata": {},
     "output_type": "execute_result"
    },
    {
     "data": {
      "image/png": "[encoded data removed]",
      "text/plain": [
       "<Figure size 432x288 with 2 Axes>"
      ]
     },
     "metadata": {
      "needs_background": "light"
     },
     "output_type": "display_data"
    }
   ],
   "source": [
    "draw(0,extest_datasets, 0)"
   ]
  },
  {
   "cell_type": "code",
   "execution_count": null,
   "metadata": {},
   "outputs": [],
   "source": []
  }
 ],
 "metadata": {
  "kernelspec": {
   "display_name": "Python 3 (ipykernel)",
   "language": "python",
   "name": "python3"
  },
  "language_info": {
   "codemirror_mode": {
    "name": "ipython",
    "version": 3
   },
   "file_extension": ".py",
   "mimetype": "text/x-python",
   "name": "python",
   "nbconvert_exporter": "python",
   "pygments_lexer": "ipython3",
   "version": "3.7.11"
  }
 },
 "nbformat": 4,
 "nbformat_minor": 2
}
